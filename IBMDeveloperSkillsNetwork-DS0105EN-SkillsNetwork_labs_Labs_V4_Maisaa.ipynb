{
  "metadata": {
    "language_info": {
      "codemirror_mode": {
        "name": "python",
        "version": 3
      },
      "file_extension": ".py",
      "mimetype": "text/x-python",
      "name": "python",
      "nbconvert_exporter": "python",
      "pygments_lexer": "ipython3",
      "version": "3.8"
    },
    "kernelspec": {
      "name": "python",
      "display_name": "Python (Pyodide)",
      "language": "python"
    }
  },
  "nbformat_minor": 4,
  "nbformat": 4,
  "cells": [
    {
      "cell_type": "markdown",
      "source": "# Maisaa",
      "metadata": {}
    },
    {
      "cell_type": "markdown",
      "source": "## introduction",
      "metadata": {}
    },
    {
      "cell_type": "markdown",
      "source": "**data science languages:**\n\n    1. scala\n    2. java\n    3. julia",
      "metadata": {}
    },
    {
      "cell_type": "markdown",
      "source": "# data science libraries:\n- numby \n- panda",
      "metadata": {}
    },
    {
      "cell_type": "markdown",
      "source": "| data science | tools |\n| -------------| ------ |\n| data science | jubeternotbook  |\n| data science | jubeterlite |\n",
      "metadata": {}
    },
    {
      "cell_type": "markdown",
      "source": " arithmetic expression examples\n \n    []: 1+1\n    \n    []: 3",
      "metadata": {}
    },
    {
      "cell_type": "code",
      "source": "1+4*3",
      "metadata": {
        "trusted": true
      },
      "execution_count": 4,
      "outputs": [
        {
          "execution_count": 4,
          "output_type": "execute_result",
          "data": {
            "text/plain": "13"
          },
          "metadata": {}
        }
      ]
    },
    {
      "cell_type": "code",
      "source": "#120 min is 2 houers ",
      "metadata": {},
      "execution_count": null,
      "outputs": []
    },
    {
      "cell_type": "code",
      "source": "120/60",
      "metadata": {
        "trusted": true
      },
      "execution_count": 5,
      "outputs": [
        {
          "execution_count": 5,
          "output_type": "execute_result",
          "data": {
            "text/plain": "2.0"
          },
          "metadata": {}
        }
      ]
    },
    {
      "cell_type": "markdown",
      "source": "#### objectives \n\n1- objectives 1\n\n2- objectives 2\n\n3- objectives 3",
      "metadata": {}
    },
    {
      "cell_type": "markdown",
      "source": "#### Auther name : Maisaa ",
      "metadata": {}
    },
    {
      "cell_type": "code",
      "source": "",
      "metadata": {},
      "execution_count": null,
      "outputs": []
    }
  ]
}